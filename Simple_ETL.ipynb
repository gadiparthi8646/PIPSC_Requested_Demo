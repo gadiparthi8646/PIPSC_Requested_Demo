{
  "cells": [
    {
      "cell_type": "markdown",
      "metadata": {
        "id": "3bG32HQVVnfv"
      },
      "source": [
        "To start, set up the connection strings for both the source (AdventureWorks) and target databases. Replace placeholders with actual connection details."
      ]
    },
    {
      "cell_type": "code",
      "execution_count": null,
      "metadata": {
        "id": "T2MOMG0xVQvt"
      },
      "outputs": [],
      "source": [
        "source_conn_str = \"DRIVER={SQL Server};SERVER=localhost;DATABASE=AdventureWorks;UID=user;PWD=password\"\n",
        "target_conn_str = \"DRIVER={SQL Server};SERVER=localhost;DATABASE=TargetDB;UID=user;PWD=password\"\n"
      ]
    },
    {
      "cell_type": "markdown",
      "metadata": {
        "id": "xY97L5SxVsGL"
      },
      "source": [
        "##Define the ETL Class\n",
        "Define an AdventureWorksETL class with __init__ to accept connection strings for the source and target databases.\n"
      ]
    },
    {
      "cell_type": "code",
      "execution_count": null,
      "metadata": {
        "id": "qdQhgS-HVwxv"
      },
      "outputs": [],
      "source": [
        "import pyodbc\n",
        "import pandas as pd\n",
        "\n",
        "class AdventureWorksETL:\n",
        "    def __init__(self, source_conn_str, target_conn_str):\n",
        "        self.source_conn_str = source_conn_str\n",
        "        self.target_conn_str = target_conn_str\n"
      ]
    },
    {
      "cell_type": "markdown",
      "metadata": {
        "id": "CQJBCDUHVy4a"
      },
      "source": [
        "##Extract Data\n",
        "Define the extract_data method to retrieve data from the AdventureWorks database. This method will take an SQL query as input."
      ]
    },
    {
      "cell_type": "code",
      "execution_count": null,
      "metadata": {
        "id": "wghZc_D5V23T"
      },
      "outputs": [],
      "source": [
        "    def extract_data(self, query):\n",
        "        with pyodbc.connect(self.source_conn_str) as conn:\n",
        "            df = pd.read_sql(query, conn)\n",
        "        return df\n"
      ]
    },
    {
      "cell_type": "markdown",
      "metadata": {
        "id": "b99BACczWGNm"
      },
      "source": [
        "#Transform Data\n",
        "Define the transform_data method to process the extracted DataFrame. Here’s an example of filtering and renaming columns."
      ]
    },
    {
      "cell_type": "code",
      "execution_count": null,
      "metadata": {
        "id": "8rh78FU6WMVf"
      },
      "outputs": [],
      "source": [
        "    def transform_data(self, df):\n",
        "        transformed_df = df[df['SalesAmount'] > 1000]\n",
        "        transformed_df = transformed_df.rename(columns={\"SalesAmount\": \"Amount\"})\n",
        "        return transformed_df\n"
      ]
    },
    {
      "cell_type": "markdown",
      "metadata": {
        "id": "kEOkLiC9WO00"
      },
      "source": [
        "#Load Data\n",
        "Define the load_data method to insert transformed data into the target database."
      ]
    },
    {
      "cell_type": "code",
      "execution_count": null,
      "metadata": {
        "id": "sXb1ibiiWYUt"
      },
      "outputs": [],
      "source": [
        "    def load_data(self, df, target_table):\n",
        "        with pyodbc.connect(self.target_conn_str) as conn:\n",
        "            cursor = conn.cursor()\n",
        "            for index, row in df.iterrows():\n",
        "                cursor.execute(f\"INSERT INTO {target_table} (CustomerID, Amount) VALUES (?, ?)\", row.CustomerID, row.Amount)\n",
        "            conn.commit()\n"
      ]
    },
    {
      "cell_type": "markdown",
      "metadata": {
        "id": "2sVVT7sbWaQH"
      },
      "source": [
        "#Run ETL Process\n",
        "Define a run_etl method that chains the extract_data, transform_data, and load_data steps for a complete ETL pipeline."
      ]
    },
    {
      "cell_type": "code",
      "execution_count": null,
      "metadata": {
        "id": "8qxSv3XEWdBi"
      },
      "outputs": [],
      "source": [
        "    def run_etl(self, query, target_table):\n",
        "        data = self.extract_data(query)\n",
        "        transformed_data = self.transform_data(data)\n",
        "        self.load_data(transformed_data, target_table)\n",
        "        return transformed_data\n"
      ]
    },
    {
      "cell_type": "markdown",
      "metadata": {
        "id": "rOPrmaUkWfaH"
      },
      "source": [
        "#Initialize and Execute ETL\n",
        "Now, create an instance of AdventureWorksETL and execute the ETL process with your desired query and target table."
      ]
    },
    {
      "cell_type": "code",
      "execution_count": null,
      "metadata": {
        "id": "f0xUUeZ0Wixx"
      },
      "outputs": [],
      "source": [
        "etl = AdventureWorksETL(source_conn_str, target_conn_str)\n",
        "query = \"SELECT CustomerID, SalesAmount FROM Sales.SalesOrderHeader\"\n",
        "transformed_data = etl.run_etl(query, 'TargetTable')\n"
      ]
    },
    {
      "cell_type": "markdown",
      "metadata": {
        "id": "usWuW5OCWlFn"
      },
      "source": [
        "# Inspect Transformed Data\n",
        "Finally, view the transformed data to ensure it meets the transformation criteria."
      ]
    },
    {
      "cell_type": "code",
      "execution_count": null,
      "metadata": {
        "id": "eJnJGwmFWqf-"
      },
      "outputs": [],
      "source": [
        "transformed_data.head()\n"
      ]
    }
  ],
  "metadata": {
    "colab": {
      "provenance": []
    },
    "kernelspec": {
      "display_name": "Python 3",
      "name": "python3"
    },
    "language_info": {
      "name": "python"
    }
  },
  "nbformat": 4,
  "nbformat_minor": 0
}
